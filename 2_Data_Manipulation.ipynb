{
  "nbformat": 4,
  "nbformat_minor": 0,
  "metadata": {
    "colab": {
      "provenance": [],
      "authorship_tag": "ABX9TyMP7Xi+4ooh+lExKR0tviiD",
      "include_colab_link": true
    },
    "kernelspec": {
      "name": "python3",
      "display_name": "Python 3"
    },
    "language_info": {
      "name": "python"
    }
  },
  "cells": [
    {
      "cell_type": "markdown",
      "metadata": {
        "id": "view-in-github",
        "colab_type": "text"
      },
      "source": [
        "<a href=\"https://colab.research.google.com/github/AnastasiiaLavre/AI4Gov2023/blob/main/2_Data_Manipulation.ipynb\" target=\"_parent\"><img src=\"https://colab.research.google.com/assets/colab-badge.svg\" alt=\"Open In Colab\"/></a>"
      ]
    },
    {
      "cell_type": "markdown",
      "source": [
        "Step 2. In this notebook we split PDFs to individual documents based on the segmentation criteria, merge PDFs and extract the first pages from all individual documents"
      ],
      "metadata": {
        "id": "DT2-BxhXpGDB"
      }
    },
    {
      "cell_type": "code",
      "execution_count": 1,
      "metadata": {
        "id": "Um7qLi6_o4qz"
      },
      "outputs": [],
      "source": [
        "import pandas as pd\n",
        "%load_ext google.colab.data_table"
      ]
    },
    {
      "cell_type": "code",
      "source": [
        "#mount google drive to access all the documents\n",
        "from google.colab import drive\n",
        "drive.mount('/content/drive')"
      ],
      "metadata": {
        "colab": {
          "base_uri": "https://localhost:8080/"
        },
        "id": "LVk7ke4apCSD",
        "outputId": "d894ef9f-bdfd-4161-bd61-a44c36a98696"
      },
      "execution_count": 2,
      "outputs": [
        {
          "output_type": "stream",
          "name": "stdout",
          "text": [
            "Mounted at /content/drive\n"
          ]
        }
      ]
    },
    {
      "cell_type": "code",
      "source": [
        "#to tweak PDFs\n",
        "!pip install PyPDF2"
      ],
      "metadata": {
        "colab": {
          "base_uri": "https://localhost:8080/"
        },
        "id": "mtBdKx2dpjmC",
        "outputId": "d646e79c-91e9-427c-f4d8-b59d7300e5fc"
      },
      "execution_count": 3,
      "outputs": [
        {
          "output_type": "stream",
          "name": "stdout",
          "text": [
            "Collecting PyPDF2\n",
            "  Downloading pypdf2-3.0.1-py3-none-any.whl (232 kB)\n",
            "\u001b[?25l     \u001b[90m━━━━━━━━━━━━━━━━━━━━━━━━━━━━━━━━━━━━━━━━\u001b[0m \u001b[32m0.0/232.6 kB\u001b[0m \u001b[31m?\u001b[0m eta \u001b[36m-:--:--\u001b[0m\r\u001b[2K     \u001b[91m━━━━━━━━━━━━\u001b[0m\u001b[90m╺\u001b[0m\u001b[90m━━━━━━━━━━━━━━━━━━━━━━━━━━━\u001b[0m \u001b[32m71.7/232.6 kB\u001b[0m \u001b[31m2.0 MB/s\u001b[0m eta \u001b[36m0:00:01\u001b[0m\r\u001b[2K     \u001b[90m━━━━━━━━━━━━━━━━━━━━━━━━━━━━━━━━━━━━━━━\u001b[0m \u001b[32m232.6/232.6 kB\u001b[0m \u001b[31m3.9 MB/s\u001b[0m eta \u001b[36m0:00:00\u001b[0m\n",
            "\u001b[?25hInstalling collected packages: PyPDF2\n",
            "Successfully installed PyPDF2-3.0.1\n"
          ]
        }
      ]
    },
    {
      "cell_type": "markdown",
      "source": [
        "Merging the PDFs"
      ],
      "metadata": {
        "id": "CzvdMOCbFfZw"
      }
    },
    {
      "cell_type": "code",
      "source": [
        "#merge pdfs\n",
        "import os\n",
        "from PyPDF2 import PdfMerger\n",
        "\n",
        "def merge_pdfs(input_directory, output_file):\n",
        "    pdf_merger = PdfMerger()\n",
        "\n",
        "    # Specify the order of filenames to be merged\n",
        "    desired_order = [\n",
        "        \"40001521.003 0335 - 0435.pdf\",\n",
        "        \"40001521.003 0436 - 0535.pdf\",\n",
        "        \"40001521.003 0536 - 0635.pdf\",\n",
        "        \"40001521.003 0636 - 0668.pdf\"\n",
        "    ]\n",
        "\n",
        "    for filename in desired_order:\n",
        "        pdf_path = os.path.join(input_directory, filename)\n",
        "        pdf_merger.append(pdf_path)\n",
        "\n",
        "    with open(output_file, \"wb\") as output_pdf:\n",
        "        pdf_merger.write(output_pdf)\n",
        "\n",
        "if __name__ == \"__main__\":\n",
        "    input_directory = \"/content/drive/MyDrive/Stanford/Output\"  # path to your split PDF directory\n",
        "    output_merged_file = \"/content/drive/MyDrive/Stanford/Output/40001521.003 0335 - 0668.pdf\"  # path for the merged PDF output file\n",
        "\n",
        "    merge_pdfs(input_directory, output_merged_file)"
      ],
      "metadata": {
        "id": "xOjgBWaw1S06"
      },
      "execution_count": 4,
      "outputs": []
    },
    {
      "cell_type": "markdown",
      "source": [
        "Splitting the documents to individual ones"
      ],
      "metadata": {
        "id": "sGNHobhbFZ8v"
      }
    },
    {
      "cell_type": "code",
      "source": [
        "#split pdf based on \"Page\" - WORKS for all files in directory\n",
        "import os\n",
        "from PyPDF2 import PdfReader, PdfWriter\n",
        "\n",
        "def process_pdf_files(input_directory, output_directory):\n",
        "    for filename in os.listdir(input_directory):\n",
        "        if filename.endswith(\"0335 - 0668.pdf\"):\n",
        "            input_pdf_file = os.path.join(input_directory, filename)\n",
        "            file_without_extension = os.path.splitext(filename)[0]\n",
        "\n",
        "            pdf_reader = PdfReader(input_pdf_file)\n",
        "            section_number = 1\n",
        "            current_pdf = PdfWriter()\n",
        "\n",
        "            for page in pdf_reader.pages:\n",
        "                text = page.extract_text()\n",
        "\n",
        "                if \"Page\" in text or any(f\"- {number} -\" in text for number in range(50)):\n",
        "                    current_pdf.add_page(page)\n",
        "                else:\n",
        "                    if current_pdf.pages:\n",
        "                        output_filename = os.path.join(output_directory, f\"{file_without_extension}_{section_number}.pdf\")\n",
        "                        with open(output_filename, \"wb\") as output_file:\n",
        "                            current_pdf.write(output_file)\n",
        "                        section_number += 1\n",
        "                    current_pdf = PdfWriter()\n",
        "                    current_pdf.add_page(page)\n",
        "\n",
        "            if current_pdf.pages:\n",
        "                output_filename = os.path.join(output_directory, f\"{file_without_extension}_{section_number}.pdf\")\n",
        "                with open(output_filename, \"wb\") as output_file:\n",
        "                    current_pdf.write(output_file)\n",
        "\n",
        "\n",
        "if __name__ == \"__main__\":\n",
        "\n",
        "    input_directory = \"/content/drive/MyDrive/Stanford/Output\"  # path to the input OCR directory\n",
        "    output_directory = \"/content/drive/MyDrive/Stanford/Output_Split/New\"  # path to the split output directory\n",
        "\n",
        "    process_pdf_files(input_directory, output_directory)"
      ],
      "metadata": {
        "id": "csECYuz92IuR"
      },
      "execution_count": 5,
      "outputs": []
    },
    {
      "cell_type": "code",
      "source": [
        "#40001521.002 0017 - 0334\n",
        "import os\n",
        "from PyPDF2 import PdfReader, PdfWriter\n",
        "\n",
        "def process_pdf_files(input_directory, output_directory):\n",
        "    for filename in os.listdir(input_directory):\n",
        "        if filename==(\"40001521.002 0017 - 0334.pdf\"):\n",
        "            input_pdf_file = os.path.join(input_directory, filename)\n",
        "            file_without_extension = os.path.splitext(filename)[0]\n",
        "\n",
        "            pdf_reader = PdfReader(input_pdf_file)\n",
        "            section_number = 1\n",
        "            current_pdf = PdfWriter()\n",
        "\n",
        "            for page in pdf_reader.pages:\n",
        "                text = page.extract_text()\n",
        "\n",
        "                if \"Page\" in text or any(f\"- {number} -\" in text for number in range(50)):\n",
        "                    current_pdf.add_page(page)\n",
        "                else:\n",
        "                    if current_pdf.pages:\n",
        "                        output_filename = os.path.join(output_directory, f\"{file_without_extension}_{section_number}.pdf\")\n",
        "                        with open(output_filename, \"wb\") as output_file:\n",
        "                            current_pdf.write(output_file)\n",
        "                        section_number += 1\n",
        "                    current_pdf = PdfWriter()\n",
        "                    current_pdf.add_page(page)\n",
        "\n",
        "            if current_pdf.pages:\n",
        "                output_filename = os.path.join(output_directory, f\"{file_without_extension}_{section_number}.pdf\")\n",
        "                with open(output_filename, \"wb\") as output_file:\n",
        "                    current_pdf.write(output_file)\n",
        "\n",
        "\n",
        "if __name__ == \"__main__\":\n",
        "\n",
        "    input_directory = \"/content/drive/MyDrive/Stanford/Output\"  # path to your input OCR directory\n",
        "    output_directory = \"/content/drive/MyDrive/Stanford/Output_Split/\"  # path to the split output directory\n",
        "\n",
        "    process_pdf_files(input_directory, output_directory)\n",
        "\n"
      ],
      "metadata": {
        "id": "RM788GWV3ZRN"
      },
      "execution_count": null,
      "outputs": []
    },
    {
      "cell_type": "code",
      "source": [
        "#data refinement, merge 40001521.002 0017 - 0334_42 and 40001521.002 0017 - 0334_43\n",
        "\n",
        "import os\n",
        "from PyPDF2 import PdfMerger\n",
        "\n",
        "def merge_pdfs(input_directory, output_file):\n",
        "    pdf_merger = PdfMerger()\n",
        "\n",
        "    # Specify the order of filenames to be merged\n",
        "    desired_order = [\n",
        "        \"40001521.002 0017 - 0334_42.pdf\",\n",
        "        \"40001521.002 0017 - 0334_43.pdf\",\n",
        "    ]\n",
        "\n",
        "    for filename in desired_order:\n",
        "        pdf_path = os.path.join(input_directory, filename)\n",
        "        pdf_merger.append(pdf_path)\n",
        "\n",
        "    with open(output_file, \"wb\") as output_pdf:\n",
        "        pdf_merger.write(output_pdf)\n",
        "\n",
        "if __name__ == \"__main__\":\n",
        "    input_directory = \"/content/drive/MyDrive/Stanford/Output_Split/\"  # path to your split PDF directory\n",
        "    output_merged_file = \"/content/drive/MyDrive/Stanford/MergedOutput.pdf\"  # path for the merged PDF output file\n",
        "\n",
        "    merge_pdfs(input_directory, output_merged_file)"
      ],
      "metadata": {
        "id": "8vnxZxOY3f9R"
      },
      "execution_count": null,
      "outputs": []
    },
    {
      "cell_type": "markdown",
      "source": [
        "Retrieving the first page of each individual document"
      ],
      "metadata": {
        "id": "gQpfupvwFLv3"
      }
    },
    {
      "cell_type": "code",
      "source": [
        "!pip install PyPDF2\n",
        "!pip install pytest-shutil\n",
        "!pip install pdf2image"
      ],
      "metadata": {
        "colab": {
          "base_uri": "https://localhost:8080/"
        },
        "id": "yU1u5rbs5nCK",
        "outputId": "1aa935e7-f060-4439-f87d-ade322d33622"
      },
      "execution_count": 7,
      "outputs": [
        {
          "output_type": "stream",
          "name": "stdout",
          "text": [
            "Requirement already satisfied: PyPDF2 in /usr/local/lib/python3.10/dist-packages (3.0.1)\n",
            "Requirement already satisfied: pytest-shutil in /usr/local/lib/python3.10/dist-packages (1.7.0)\n",
            "Requirement already satisfied: six in /usr/local/lib/python3.10/dist-packages (from pytest-shutil) (1.16.0)\n",
            "Requirement already satisfied: execnet in /usr/local/lib/python3.10/dist-packages (from pytest-shutil) (2.0.2)\n",
            "Requirement already satisfied: contextlib2 in /usr/local/lib/python3.10/dist-packages (from pytest-shutil) (21.6.0)\n",
            "Requirement already satisfied: pytest in /usr/local/lib/python3.10/dist-packages (from pytest-shutil) (7.4.1)\n",
            "Requirement already satisfied: path.py in /usr/local/lib/python3.10/dist-packages (from pytest-shutil) (12.5.0)\n",
            "Requirement already satisfied: mock in /usr/local/lib/python3.10/dist-packages (from pytest-shutil) (5.1.0)\n",
            "Requirement already satisfied: termcolor in /usr/local/lib/python3.10/dist-packages (from pytest-shutil) (2.3.0)\n",
            "Requirement already satisfied: path in /usr/local/lib/python3.10/dist-packages (from path.py->pytest-shutil) (16.7.1)\n",
            "Requirement already satisfied: iniconfig in /usr/local/lib/python3.10/dist-packages (from pytest->pytest-shutil) (2.0.0)\n",
            "Requirement already satisfied: packaging in /usr/local/lib/python3.10/dist-packages (from pytest->pytest-shutil) (23.1)\n",
            "Requirement already satisfied: pluggy<2.0,>=0.12 in /usr/local/lib/python3.10/dist-packages (from pytest->pytest-shutil) (1.3.0)\n",
            "Requirement already satisfied: exceptiongroup>=1.0.0rc8 in /usr/local/lib/python3.10/dist-packages (from pytest->pytest-shutil) (1.1.3)\n",
            "Requirement already satisfied: tomli>=1.0.0 in /usr/local/lib/python3.10/dist-packages (from pytest->pytest-shutil) (2.0.1)\n",
            "Collecting pdf2image\n",
            "  Downloading pdf2image-1.16.3-py3-none-any.whl (11 kB)\n",
            "Requirement already satisfied: pillow in /usr/local/lib/python3.10/dist-packages (from pdf2image) (9.4.0)\n",
            "Installing collected packages: pdf2image\n",
            "Successfully installed pdf2image-1.16.3\n"
          ]
        }
      ]
    },
    {
      "cell_type": "code",
      "source": [
        "!sudo apt-get install poppler-utils"
      ],
      "metadata": {
        "colab": {
          "base_uri": "https://localhost:8080/"
        },
        "id": "jtkfc0B3Fi7P",
        "outputId": "54324a4c-5841-4202-a608-99294e75f1cc"
      },
      "execution_count": 8,
      "outputs": [
        {
          "output_type": "stream",
          "name": "stdout",
          "text": [
            "Reading package lists... Done\n",
            "Building dependency tree... Done\n",
            "Reading state information... Done\n",
            "The following NEW packages will be installed:\n",
            "  poppler-utils\n",
            "0 upgraded, 1 newly installed, 0 to remove and 16 not upgraded.\n",
            "Need to get 186 kB of archives.\n",
            "After this operation, 696 kB of additional disk space will be used.\n",
            "Get:1 http://archive.ubuntu.com/ubuntu jammy-updates/main amd64 poppler-utils amd64 22.02.0-2ubuntu0.2 [186 kB]\n",
            "Fetched 186 kB in 0s (690 kB/s)\n",
            "debconf: unable to initialize frontend: Dialog\n",
            "debconf: (No usable dialog-like program is installed, so the dialog based frontend cannot be used. at /usr/share/perl5/Debconf/FrontEnd/Dialog.pm line 78, <> line 1.)\n",
            "debconf: falling back to frontend: Readline\n",
            "debconf: unable to initialize frontend: Readline\n",
            "debconf: (This frontend requires a controlling tty.)\n",
            "debconf: falling back to frontend: Teletype\n",
            "dpkg-preconfigure: unable to re-open stdin: \n",
            "Selecting previously unselected package poppler-utils.\n",
            "(Reading database ... 120901 files and directories currently installed.)\n",
            "Preparing to unpack .../poppler-utils_22.02.0-2ubuntu0.2_amd64.deb ...\n",
            "Unpacking poppler-utils (22.02.0-2ubuntu0.2) ...\n",
            "Setting up poppler-utils (22.02.0-2ubuntu0.2) ...\n",
            "Processing triggers for man-db (2.10.2-1) ...\n"
          ]
        }
      ]
    },
    {
      "cell_type": "code",
      "source": [
        "import os\n",
        "import PyPDF2\n",
        "from PyPDF2 import PdfReader, PdfWriter\n",
        "from shutil import copyfile\n",
        "from PIL import Image\n",
        "from pdf2image import convert_from_path"
      ],
      "metadata": {
        "id": "YEfhUWHmFwXg"
      },
      "execution_count": 9,
      "outputs": []
    },
    {
      "cell_type": "code",
      "source": [
        "# Input directory containing PDF files\n",
        "input_directory = '/content/drive/MyDrive/Stanford/Output_Split'\n",
        "\n",
        "# Output directory to save the first pages\n",
        "output_directory = '/content/drive/MyDrive/Stanford/PDF 1 page'\n",
        "\n",
        "# Create the output directory if it doesn't exist\n",
        "if not os.path.exists(output_directory):\n",
        "    os.makedirs(output_directory)\n",
        "\n",
        "# List all PDF files in the input directory\n",
        "pdf_files = [f for f in os.listdir(input_directory) if f.startswith('40001521.003 0335 - 0668')]\n",
        "\n",
        "for pdf_file in pdf_files:\n",
        "    input_path = os.path.join(input_directory, pdf_file)\n",
        "    output_pdf_path = os.path.join(output_directory, pdf_file)\n",
        "    output_png_path = os.path.splitext(output_pdf_path)[0] + '.png'\n",
        "\n",
        "    # Convert the first page to PNG format using pdf2image\n",
        "    images = convert_from_path(input_path, first_page=0, last_page=1)  # First page is index 0\n",
        "    if images:\n",
        "        images[0].save(output_png_path, 'PNG')\n",
        "\n",
        "    # Save the first page as a separate PDF using PyPDF2\n",
        "    pdf_writer = PdfWriter()\n",
        "    pdf_reader = PdfReader(open(input_path, 'rb'))\n",
        "    first_page = pdf_reader.pages[0]\n",
        "    pdf_writer.add_page(first_page)\n",
        "    with open(output_pdf_path, 'wb') as output_pdf:\n",
        "        pdf_writer.write(output_pdf)\n",
        "\n",
        "print('First pages of PDF files have been saved to the output directory in both PDF and PNG formats.')\n"
      ],
      "metadata": {
        "colab": {
          "base_uri": "https://localhost:8080/"
        },
        "id": "_GIGnTTpFzv4",
        "outputId": "cacb2463-768c-4888-8abd-a87a3c53e733"
      },
      "execution_count": 10,
      "outputs": [
        {
          "output_type": "stream",
          "name": "stdout",
          "text": [
            "First pages of PDF files have been saved to the output directory in both PDF and PNG formats.\n"
          ]
        }
      ]
    }
  ]
}